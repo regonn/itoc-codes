{
 "cells": [
  {
   "cell_type": "code",
   "execution_count": 1,
   "metadata": {},
   "outputs": [],
   "source": [
    "import pandas as pd\n",
    "import xgboost as xgb\n",
    "import datetime\n",
    "import os\n",
    "import subprocess\n",
    "import sys\n",
    "import json"
   ]
  },
  {
   "cell_type": "markdown",
   "metadata": {},
   "source": [
    "先にGoogle Cloud Storageに学習データをアップロードしておく。"
   ]
  },
  {
   "cell_type": "code",
   "execution_count": 2,
   "metadata": {},
   "outputs": [],
   "source": [
    "# バケット名\n",
    "BUCKET_NAME = 'itoc-232101-mlengine'\n"
   ]
  },
  {
   "cell_type": "markdown",
   "metadata": {},
   "source": [
    "データをダウンロードする"
   ]
  },
  {
   "cell_type": "code",
   "execution_count": 3,
   "metadata": {},
   "outputs": [
    {
     "data": {
      "text/plain": [
       "0"
      ]
     },
     "execution_count": 3,
     "metadata": {},
     "output_type": "execute_result"
    }
   ],
   "source": [
    "data_filename = 'data.csv'\n",
    "target_filename = 'target.csv'\n",
    "data_dir = 'gs://' + BUCKET_NAME\n",
    "\n",
    "subprocess.check_call(['gsutil', 'cp', os.path.join(data_dir, data_filename), data_filename])\n",
    "subprocess.check_call(['gsutil', 'cp', os.path.join(data_dir, target_filename), target_filename])"
   ]
  },
  {
   "cell_type": "markdown",
   "metadata": {},
   "source": [
    "データは今回XGBoostで学習をするために、One-Hotエンコーディング処理を施しておく。"
   ]
  },
  {
   "cell_type": "code",
   "execution_count": 4,
   "metadata": {},
   "outputs": [
    {
     "data": {
      "text/html": [
       "<div>\n",
       "<style scoped>\n",
       "    .dataframe tbody tr th:only-of-type {\n",
       "        vertical-align: middle;\n",
       "    }\n",
       "\n",
       "    .dataframe tbody tr th {\n",
       "        vertical-align: top;\n",
       "    }\n",
       "\n",
       "    .dataframe thead th {\n",
       "        text-align: right;\n",
       "    }\n",
       "</style>\n",
       "<table border=\"1\" class=\"dataframe\">\n",
       "  <thead>\n",
       "    <tr style=\"text-align: right;\">\n",
       "      <th></th>\n",
       "      <th>x1:種類_中古マンション等</th>\n",
       "      <th>x2:種類_宅地(土地)</th>\n",
       "      <th>x3:種類_宅地(土地と建物)</th>\n",
       "      <th>x4:種類_林地</th>\n",
       "      <th>x5:種類_農地</th>\n",
       "      <th>x6:地域_住宅地</th>\n",
       "      <th>x7:地域_商業地</th>\n",
       "      <th>x8:地域_宅地見込地</th>\n",
       "      <th>x9:地域_工業地</th>\n",
       "      <th>x10:坪単価_float</th>\n",
       "      <th>...</th>\n",
       "      <th>x74:取引時点_平成30年第２四半期</th>\n",
       "      <th>x75:取引時点_平成30年第３四半期</th>\n",
       "      <th>x76:改装_改装済</th>\n",
       "      <th>x77:改装_未改装</th>\n",
       "      <th>x78:取引の事情等_その他事情有り</th>\n",
       "      <th>x79:取引の事情等_私道を含む取引</th>\n",
       "      <th>x80:取引の事情等_調停・競売等</th>\n",
       "      <th>x81:取引の事情等_関係者間取引</th>\n",
       "      <th>x82:取引の事情等_隣地の購入</th>\n",
       "      <th>x83:取引の事情等_隣地の購入、関係者間取引</th>\n",
       "    </tr>\n",
       "  </thead>\n",
       "  <tbody>\n",
       "    <tr>\n",
       "      <th>0</th>\n",
       "      <td>0</td>\n",
       "      <td>1</td>\n",
       "      <td>0</td>\n",
       "      <td>0</td>\n",
       "      <td>0</td>\n",
       "      <td>1</td>\n",
       "      <td>0</td>\n",
       "      <td>0</td>\n",
       "      <td>0</td>\n",
       "      <td>79000.000000</td>\n",
       "      <td>...</td>\n",
       "      <td>0</td>\n",
       "      <td>0</td>\n",
       "      <td>0</td>\n",
       "      <td>1</td>\n",
       "      <td>0</td>\n",
       "      <td>0</td>\n",
       "      <td>1</td>\n",
       "      <td>0</td>\n",
       "      <td>0</td>\n",
       "      <td>0</td>\n",
       "    </tr>\n",
       "    <tr>\n",
       "      <th>1</th>\n",
       "      <td>0</td>\n",
       "      <td>0</td>\n",
       "      <td>0</td>\n",
       "      <td>1</td>\n",
       "      <td>0</td>\n",
       "      <td>1</td>\n",
       "      <td>0</td>\n",
       "      <td>0</td>\n",
       "      <td>0</td>\n",
       "      <td>90662.852984</td>\n",
       "      <td>...</td>\n",
       "      <td>1</td>\n",
       "      <td>0</td>\n",
       "      <td>0</td>\n",
       "      <td>1</td>\n",
       "      <td>0</td>\n",
       "      <td>0</td>\n",
       "      <td>1</td>\n",
       "      <td>0</td>\n",
       "      <td>0</td>\n",
       "      <td>0</td>\n",
       "    </tr>\n",
       "    <tr>\n",
       "      <th>2</th>\n",
       "      <td>0</td>\n",
       "      <td>0</td>\n",
       "      <td>1</td>\n",
       "      <td>0</td>\n",
       "      <td>0</td>\n",
       "      <td>1</td>\n",
       "      <td>0</td>\n",
       "      <td>0</td>\n",
       "      <td>0</td>\n",
       "      <td>90662.852984</td>\n",
       "      <td>...</td>\n",
       "      <td>0</td>\n",
       "      <td>0</td>\n",
       "      <td>0</td>\n",
       "      <td>1</td>\n",
       "      <td>0</td>\n",
       "      <td>0</td>\n",
       "      <td>1</td>\n",
       "      <td>0</td>\n",
       "      <td>0</td>\n",
       "      <td>0</td>\n",
       "    </tr>\n",
       "    <tr>\n",
       "      <th>3</th>\n",
       "      <td>0</td>\n",
       "      <td>1</td>\n",
       "      <td>0</td>\n",
       "      <td>0</td>\n",
       "      <td>0</td>\n",
       "      <td>1</td>\n",
       "      <td>0</td>\n",
       "      <td>0</td>\n",
       "      <td>0</td>\n",
       "      <td>86000.000000</td>\n",
       "      <td>...</td>\n",
       "      <td>1</td>\n",
       "      <td>0</td>\n",
       "      <td>0</td>\n",
       "      <td>1</td>\n",
       "      <td>0</td>\n",
       "      <td>0</td>\n",
       "      <td>1</td>\n",
       "      <td>0</td>\n",
       "      <td>0</td>\n",
       "      <td>0</td>\n",
       "    </tr>\n",
       "    <tr>\n",
       "      <th>4</th>\n",
       "      <td>0</td>\n",
       "      <td>0</td>\n",
       "      <td>1</td>\n",
       "      <td>0</td>\n",
       "      <td>0</td>\n",
       "      <td>1</td>\n",
       "      <td>0</td>\n",
       "      <td>0</td>\n",
       "      <td>0</td>\n",
       "      <td>90662.852984</td>\n",
       "      <td>...</td>\n",
       "      <td>1</td>\n",
       "      <td>0</td>\n",
       "      <td>0</td>\n",
       "      <td>1</td>\n",
       "      <td>0</td>\n",
       "      <td>0</td>\n",
       "      <td>1</td>\n",
       "      <td>0</td>\n",
       "      <td>0</td>\n",
       "      <td>0</td>\n",
       "    </tr>\n",
       "  </tbody>\n",
       "</table>\n",
       "<p>5 rows × 83 columns</p>\n",
       "</div>"
      ],
      "text/plain": [
       "   x1:種類_中古マンション等  x2:種類_宅地(土地)  x3:種類_宅地(土地と建物)  x4:種類_林地  x5:種類_農地  \\\n",
       "0               0             1                0         0         0   \n",
       "1               0             0                0         1         0   \n",
       "2               0             0                1         0         0   \n",
       "3               0             1                0         0         0   \n",
       "4               0             0                1         0         0   \n",
       "\n",
       "   x6:地域_住宅地  x7:地域_商業地  x8:地域_宅地見込地  x9:地域_工業地  x10:坪単価_float  ...  \\\n",
       "0          1          0            0          0   79000.000000  ...   \n",
       "1          1          0            0          0   90662.852984  ...   \n",
       "2          1          0            0          0   90662.852984  ...   \n",
       "3          1          0            0          0   86000.000000  ...   \n",
       "4          1          0            0          0   90662.852984  ...   \n",
       "\n",
       "   x74:取引時点_平成30年第２四半期  x75:取引時点_平成30年第３四半期  x76:改装_改装済  x77:改装_未改装  \\\n",
       "0                    0                    0           0           1   \n",
       "1                    1                    0           0           1   \n",
       "2                    0                    0           0           1   \n",
       "3                    1                    0           0           1   \n",
       "4                    1                    0           0           1   \n",
       "\n",
       "   x78:取引の事情等_その他事情有り  x79:取引の事情等_私道を含む取引  x80:取引の事情等_調停・競売等  \\\n",
       "0                   0                   0                  1   \n",
       "1                   0                   0                  1   \n",
       "2                   0                   0                  1   \n",
       "3                   0                   0                  1   \n",
       "4                   0                   0                  1   \n",
       "\n",
       "   x81:取引の事情等_関係者間取引  x82:取引の事情等_隣地の購入  x83:取引の事情等_隣地の購入、関係者間取引  \n",
       "0                  0                 0                        0  \n",
       "1                  0                 0                        0  \n",
       "2                  0                 0                        0  \n",
       "3                  0                 0                        0  \n",
       "4                  0                 0                        0  \n",
       "\n",
       "[5 rows x 83 columns]"
      ]
     },
     "execution_count": 4,
     "metadata": {},
     "output_type": "execute_result"
    }
   ],
   "source": [
    "pd.read_csv(data_filename, index_col=0).head()"
   ]
  },
  {
   "cell_type": "markdown",
   "metadata": {},
   "source": [
    "XGBoostへ渡すように配列の形式に戻す"
   ]
  },
  {
   "cell_type": "code",
   "execution_count": 5,
   "metadata": {},
   "outputs": [],
   "source": [
    "data = pd.read_csv(data_filename, index_col=0).values\n",
    "target = pd.read_csv(target_filename, index_col=0).values\n",
    "target = target.reshape((target.size,))\n"
   ]
  },
  {
   "cell_type": "code",
   "execution_count": 6,
   "metadata": {},
   "outputs": [
    {
     "data": {
      "text/plain": [
       "array([ 5200000,    25000, 25000000, ...,  2300000,  4000000,  3100000])"
      ]
     },
     "execution_count": 6,
     "metadata": {},
     "output_type": "execute_result"
    }
   ],
   "source": [
    "target"
   ]
  },
  {
   "cell_type": "markdown",
   "metadata": {},
   "source": [
    "データをDMatrixオブジェクトとして読み込む"
   ]
  },
  {
   "cell_type": "code",
   "execution_count": 7,
   "metadata": {},
   "outputs": [],
   "source": [
    "dtrain = xgb.DMatrix(data, label=target)\n",
    "\n"
   ]
  },
  {
   "cell_type": "markdown",
   "metadata": {},
   "source": [
    "XGBoostのモデルを学習させる"
   ]
  },
  {
   "cell_type": "code",
   "execution_count": 8,
   "metadata": {},
   "outputs": [
    {
     "name": "stdout",
     "output_type": "stream",
     "text": [
      "[19:45:43] /workspace/src/tree/updater_prune.cc:74: tree pruning end, 1 roots, 64 extra nodes, 0 pruned nodes, max_depth=6\n",
      "[19:45:43] /workspace/src/tree/updater_prune.cc:74: tree pruning end, 1 roots, 52 extra nodes, 0 pruned nodes, max_depth=6\n",
      "[19:45:43] /workspace/src/tree/updater_prune.cc:74: tree pruning end, 1 roots, 54 extra nodes, 0 pruned nodes, max_depth=6\n",
      "[19:45:43] /workspace/src/tree/updater_prune.cc:74: tree pruning end, 1 roots, 54 extra nodes, 0 pruned nodes, max_depth=6\n",
      "[19:45:43] /workspace/src/tree/updater_prune.cc:74: tree pruning end, 1 roots, 54 extra nodes, 0 pruned nodes, max_depth=6\n",
      "[19:45:43] /workspace/src/tree/updater_prune.cc:74: tree pruning end, 1 roots, 52 extra nodes, 0 pruned nodes, max_depth=6\n",
      "[19:45:43] /workspace/src/tree/updater_prune.cc:74: tree pruning end, 1 roots, 54 extra nodes, 0 pruned nodes, max_depth=6\n",
      "[19:45:43] /workspace/src/tree/updater_prune.cc:74: tree pruning end, 1 roots, 44 extra nodes, 0 pruned nodes, max_depth=6\n",
      "[19:45:43] /workspace/src/tree/updater_prune.cc:74: tree pruning end, 1 roots, 50 extra nodes, 0 pruned nodes, max_depth=6\n",
      "[19:45:43] /workspace/src/tree/updater_prune.cc:74: tree pruning end, 1 roots, 46 extra nodes, 0 pruned nodes, max_depth=6\n",
      "[19:45:43] /workspace/src/tree/updater_prune.cc:74: tree pruning end, 1 roots, 62 extra nodes, 0 pruned nodes, max_depth=6\n",
      "[19:45:43] /workspace/src/tree/updater_prune.cc:74: tree pruning end, 1 roots, 48 extra nodes, 0 pruned nodes, max_depth=6\n",
      "[19:45:43] /workspace/src/tree/updater_prune.cc:74: tree pruning end, 1 roots, 46 extra nodes, 0 pruned nodes, max_depth=6\n",
      "[19:45:43] /workspace/src/tree/updater_prune.cc:74: tree pruning end, 1 roots, 48 extra nodes, 0 pruned nodes, max_depth=6\n",
      "[19:45:43] /workspace/src/tree/updater_prune.cc:74: tree pruning end, 1 roots, 56 extra nodes, 0 pruned nodes, max_depth=6\n",
      "[19:45:43] /workspace/src/tree/updater_prune.cc:74: tree pruning end, 1 roots, 46 extra nodes, 0 pruned nodes, max_depth=6\n",
      "[19:45:43] /workspace/src/tree/updater_prune.cc:74: tree pruning end, 1 roots, 32 extra nodes, 0 pruned nodes, max_depth=6\n",
      "[19:45:43] /workspace/src/tree/updater_prune.cc:74: tree pruning end, 1 roots, 42 extra nodes, 0 pruned nodes, max_depth=6\n",
      "[19:45:43] /workspace/src/tree/updater_prune.cc:74: tree pruning end, 1 roots, 34 extra nodes, 0 pruned nodes, max_depth=6\n",
      "[19:45:43] /workspace/src/tree/updater_prune.cc:74: tree pruning end, 1 roots, 44 extra nodes, 0 pruned nodes, max_depth=6\n"
     ]
    }
   ],
   "source": [
    "bst = xgb.train({}, dtrain, 20)"
   ]
  },
  {
   "cell_type": "markdown",
   "metadata": {},
   "source": [
    "モデルをファイルとして出力する"
   ]
  },
  {
   "cell_type": "code",
   "execution_count": 9,
   "metadata": {},
   "outputs": [],
   "source": [
    "model_filename = 'model.bst'\n",
    "bst.save_model(model_filename)"
   ]
  },
  {
   "cell_type": "markdown",
   "metadata": {},
   "source": [
    "モデルファイルをGoogle Cloud Storageに"
   ]
  },
  {
   "cell_type": "code",
   "execution_count": 10,
   "metadata": {},
   "outputs": [
    {
     "data": {
      "text/plain": [
       "0"
      ]
     },
     "execution_count": 10,
     "metadata": {},
     "output_type": "execute_result"
    }
   ],
   "source": [
    "gcs_model_path = os.path.join('gs://', BUCKET_NAME,\n",
    "    datetime.datetime.now().strftime('%Y%m%d_%H%M%S'), model_filename)\n",
    "subprocess.check_call(['gsutil', 'cp', model_filename, gcs_model_path])"
   ]
  },
  {
   "cell_type": "markdown",
   "metadata": {},
   "source": [
    "# モデル作成"
   ]
  },
  {
   "cell_type": "markdown",
   "metadata": {},
   "source": [
    "上記のコード部分を train.py というファイルにして保存し、次のようなディレクトリ構造を作成する。\n",
    "\n",
    "```\n",
    "xgboost_trainer/\n",
    "    __init__.py(空ファイル)\n",
    "    train.py\n",
    "```"
   ]
  },
  {
   "cell_type": "markdown",
   "metadata": {},
   "source": [
    "次の環境変数を設定し次のコマンドをコンソール上で実行することでローカルでモデルの学習を実行できる\n",
    "\n",
    "```\n",
    "TRAINING_PACKAGE_PATH=\"./xgboost_trainer/\"\n",
    "MAIN_TRAINER_MODULE=\"xgboost_trainer.train\"\n",
    "```\n",
    "\n",
    "`> gcloud ml-engine local train --package-path $TRAINING_PACKAGE_PATH --module-name $MAIN_TRAINER_MODULE`"
   ]
  },
  {
   "cell_type": "markdown",
   "metadata": {},
   "source": [
    "今度は次の環境変数を設定する\n",
    "\n",
    "```\n",
    " PROJECT_ID=[PROJECT-ID]\n",
    " BUCKET_ID=[BUCKET-ID]\n",
    " JOB_NAME=\"xgboost_$(date +\"%Y%m%d_%H%M%S\")\"\n",
    " JOB_DIR=gs://$BUCKET_ID/xgboost_job_dir\n",
    " TRAINING_PACKAGE_PATH=\"./xgboost_trainer/\"\n",
    " MAIN_TRAINER_MODULE=\"xgboost_trainer.train\"\n",
    " REGION=us-central1\n",
    " RUNTIME_VERSION=1.12\n",
    " PYTHON_VERSION=3.5\n",
    " SCALE_TIER=BASIC\n",
    "```"
   ]
  },
  {
   "cell_type": "markdown",
   "metadata": {},
   "source": [
    "次のコマンドを実行することで、クラウド上でトレーニングを行う\n",
    "\n",
    "```\n",
    "gcloud ml-engine jobs submit training $JOB_NAME \\\n",
    "  --job-dir $JOB_DIR \\\n",
    "  --package-path $TRAINING_PACKAGE_PATH \\\n",
    "  --module-name $MAIN_TRAINER_MODULE \\\n",
    "  --region $REGION \\\n",
    "  --runtime-version=$RUNTIME_VERSION \\\n",
    "  --python-version=$PYTHON_VERSION \\\n",
    "  --scale-tier $SCALE_TIER\n",
    "```"
   ]
  },
  {
   "cell_type": "markdown",
   "metadata": {},
   "source": [
    "クラウドに登録したジョブは次のコマンドで状態を確認できる"
   ]
  },
  {
   "cell_type": "markdown",
   "metadata": {},
   "source": [
    "`> gcloud ml-engine jobs stream-logs $JOB_NAME`"
   ]
  },
  {
   "cell_type": "markdown",
   "metadata": {},
   "source": [
    "# 予測"
   ]
  },
  {
   "cell_type": "markdown",
   "metadata": {},
   "source": [
    "予測ファイルは`input.json`として次のように保存する\n",
    "\n",
    "```input.json\n",
    "[0,0,1,0,0,1,0,0,0,90662.8529839884,0,0,1,0,27453.2518195051,0,0,0,1,0,0,0,0,0,0,1,0,0,0,0,0,0,1,0,0,0,0,0,1,0,0,0,0,0,0,0,0,1,0,0,0,0,0,0,5.3,0,0,1,0,0,0,0,0,1,0,0,0,0,0,0,0,0,0,0,1,0,1,0,0,1,0,0,0]\n",
    "[0,1,0,0,0,1,0,0,0,93000.0,0,0,1,0,28000.0,0,0,0,1,0,0,0,0,0,0,1,0,0,0,0,0,0,1,0,0,0,0,0,1,0,0,0,0,0,0,0,0,1,0,0,0,0,0,0,4.0,0,1,0,0,0,0,1,0,0,0,0,0,0,0,0,0,0,0,0,1,0,1,0,0,1,0,0,0]\n",
    "```"
   ]
  },
  {
   "cell_type": "markdown",
   "metadata": {},
   "source": [
    "```\n",
    "MODEL_DIR=gs://$BUCKET_ID/\n",
    "VERSION_NAME=\"sample\"\n",
    "MODEL_NAME=\"itoc\"\n",
    "INPUT_FILE=\"input.json\"\n",
    "FRAMEWORK=\"XGBOOST\"\n",
    "```"
   ]
  },
  {
   "cell_type": "markdown",
   "metadata": {},
   "source": [
    "次のようなコマンドでローカルで予測をすることができる\n",
    "`> gcloud ml-engine local predict --model-dir=$MODEL_DIR --json-instances $INPUT_FILE --framework $FRAMEWORK`"
   ]
  },
  {
   "cell_type": "markdown",
   "metadata": {},
   "source": [
    "次のコマンドでモデルにバージョンを指定してデプロイできる\n",
    "\n",
    "```\n",
    "> gcloud ml-engine versions create $VERSION_NAME \\\n",
    "      --model $MODEL_NAME --origin $MODEL_DIR \\\n",
    "      --runtime-version=1.12 --framework $FRAMEWORK \\\n",
    "      --python-version=3.5\n",
    "```"
   ]
  },
  {
   "cell_type": "markdown",
   "metadata": {},
   "source": [
    "デプロイしたバージョンを指定して予測を行う\n",
    "\n",
    "`gcloud ml-engine predict --model $MODEL_NAME --version $VERSION_NAME --json-instances $INPUT_FILE`"
   ]
  },
  {
   "cell_type": "code",
   "execution_count": null,
   "metadata": {},
   "outputs": [],
   "source": []
  }
 ],
 "metadata": {
  "kernelspec": {
   "display_name": "Python 3",
   "language": "python",
   "name": "python3"
  },
  "language_info": {
   "codemirror_mode": {
    "name": "ipython",
    "version": 3
   },
   "file_extension": ".py",
   "mimetype": "text/x-python",
   "name": "python",
   "nbconvert_exporter": "python",
   "pygments_lexer": "ipython3",
   "version": "3.7.2"
  }
 },
 "nbformat": 4,
 "nbformat_minor": 2
}
